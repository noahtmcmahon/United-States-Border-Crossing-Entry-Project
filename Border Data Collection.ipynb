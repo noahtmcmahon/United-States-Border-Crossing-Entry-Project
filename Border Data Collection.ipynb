{
 "cells": [
  {
   "cell_type": "code",
   "execution_count": 1,
   "id": "a210121f",
   "metadata": {},
   "outputs": [],
   "source": [
    "# Import Libraries\n",
    "import pandas as pd\n",
    "import numpy as np\n",
    "import datetime"
   ]
  },
  {
   "cell_type": "code",
   "execution_count": 2,
   "id": "23661781",
   "metadata": {},
   "outputs": [],
   "source": [
    "# Create DataFrame from CSV file\n",
    "df = pd.read_csv('/Users/noah/Desktop/Border Crossing Project/CSV/Border_Crossing_Entry_Data.csv')"
   ]
  },
  {
   "cell_type": "code",
   "execution_count": 3,
   "id": "69a199a6",
   "metadata": {},
   "outputs": [
    {
     "data": {
      "text/html": [
       "<div>\n",
       "<style scoped>\n",
       "    .dataframe tbody tr th:only-of-type {\n",
       "        vertical-align: middle;\n",
       "    }\n",
       "\n",
       "    .dataframe tbody tr th {\n",
       "        vertical-align: top;\n",
       "    }\n",
       "\n",
       "    .dataframe thead th {\n",
       "        text-align: right;\n",
       "    }\n",
       "</style>\n",
       "<table border=\"1\" class=\"dataframe\">\n",
       "  <thead>\n",
       "    <tr style=\"text-align: right;\">\n",
       "      <th></th>\n",
       "      <th>Port Name</th>\n",
       "      <th>State</th>\n",
       "      <th>Port Code</th>\n",
       "      <th>Border</th>\n",
       "      <th>Date</th>\n",
       "      <th>Measure</th>\n",
       "      <th>Value</th>\n",
       "      <th>Latitude</th>\n",
       "      <th>Longitude</th>\n",
       "      <th>Point</th>\n",
       "    </tr>\n",
       "  </thead>\n",
       "  <tbody>\n",
       "    <tr>\n",
       "      <th>0</th>\n",
       "      <td>International Falls</td>\n",
       "      <td>Minnesota</td>\n",
       "      <td>3604</td>\n",
       "      <td>US-Canada Border</td>\n",
       "      <td>Oct 2023</td>\n",
       "      <td>Trucks</td>\n",
       "      <td>1372</td>\n",
       "      <td>48.608</td>\n",
       "      <td>-93.401</td>\n",
       "      <td>POINT (-93.401355 48.6078)</td>\n",
       "    </tr>\n",
       "    <tr>\n",
       "      <th>1</th>\n",
       "      <td>Sumas</td>\n",
       "      <td>Washington</td>\n",
       "      <td>3009</td>\n",
       "      <td>US-Canada Border</td>\n",
       "      <td>Oct 2023</td>\n",
       "      <td>Train Passengers</td>\n",
       "      <td>57</td>\n",
       "      <td>49.002</td>\n",
       "      <td>-122.265</td>\n",
       "      <td>POINT (-122.264805 49.002388)</td>\n",
       "    </tr>\n",
       "    <tr>\n",
       "      <th>2</th>\n",
       "      <td>Naco</td>\n",
       "      <td>Arizona</td>\n",
       "      <td>2603</td>\n",
       "      <td>US-Mexico Border</td>\n",
       "      <td>Sep 2023</td>\n",
       "      <td>Trucks</td>\n",
       "      <td>270</td>\n",
       "      <td>31.334</td>\n",
       "      <td>-109.948</td>\n",
       "      <td>POINT (-109.948413 31.334084)</td>\n",
       "    </tr>\n",
       "    <tr>\n",
       "      <th>3</th>\n",
       "      <td>Wildhorse</td>\n",
       "      <td>Montana</td>\n",
       "      <td>3323</td>\n",
       "      <td>US-Canada Border</td>\n",
       "      <td>Sep 2023</td>\n",
       "      <td>Trucks</td>\n",
       "      <td>42</td>\n",
       "      <td>48.999</td>\n",
       "      <td>-110.215</td>\n",
       "      <td>POINT (-110.215083 48.999361)</td>\n",
       "    </tr>\n",
       "    <tr>\n",
       "      <th>4</th>\n",
       "      <td>Calais</td>\n",
       "      <td>Maine</td>\n",
       "      <td>115</td>\n",
       "      <td>US-Canada Border</td>\n",
       "      <td>Sep 2023</td>\n",
       "      <td>Trains</td>\n",
       "      <td>15</td>\n",
       "      <td>45.189</td>\n",
       "      <td>-67.275</td>\n",
       "      <td>POINT (-67.275381 45.188548)</td>\n",
       "    </tr>\n",
       "  </tbody>\n",
       "</table>\n",
       "</div>"
      ],
      "text/plain": [
       "             Port Name       State  Port Code            Border      Date  \\\n",
       "0  International Falls   Minnesota       3604  US-Canada Border  Oct 2023   \n",
       "1                Sumas  Washington       3009  US-Canada Border  Oct 2023   \n",
       "2                 Naco     Arizona       2603  US-Mexico Border  Sep 2023   \n",
       "3            Wildhorse     Montana       3323  US-Canada Border  Sep 2023   \n",
       "4               Calais       Maine        115  US-Canada Border  Sep 2023   \n",
       "\n",
       "            Measure  Value  Latitude  Longitude                          Point  \n",
       "0            Trucks   1372    48.608    -93.401     POINT (-93.401355 48.6078)  \n",
       "1  Train Passengers     57    49.002   -122.265  POINT (-122.264805 49.002388)  \n",
       "2            Trucks    270    31.334   -109.948  POINT (-109.948413 31.334084)  \n",
       "3            Trucks     42    48.999   -110.215  POINT (-110.215083 48.999361)  \n",
       "4            Trains     15    45.189    -67.275   POINT (-67.275381 45.188548)  "
      ]
     },
     "execution_count": 3,
     "metadata": {},
     "output_type": "execute_result"
    }
   ],
   "source": [
    "df.head()"
   ]
  },
  {
   "cell_type": "code",
   "execution_count": 4,
   "id": "e506787d",
   "metadata": {},
   "outputs": [
    {
     "data": {
      "text/plain": [
       "(388823, 10)"
      ]
     },
     "execution_count": 4,
     "metadata": {},
     "output_type": "execute_result"
    }
   ],
   "source": [
    "# Understand how many rows and columns\n",
    "df.shape"
   ]
  },
  {
   "cell_type": "code",
   "execution_count": 5,
   "id": "2c393ce6",
   "metadata": {},
   "outputs": [
    {
     "data": {
      "text/plain": [
       "Port Name    0\n",
       "State        0\n",
       "Port Code    0\n",
       "Border       0\n",
       "Date         0\n",
       "Measure      0\n",
       "Value        0\n",
       "Latitude     1\n",
       "Longitude    1\n",
       "Point        1\n",
       "dtype: int64"
      ]
     },
     "execution_count": 5,
     "metadata": {},
     "output_type": "execute_result"
    }
   ],
   "source": [
    "# Check missing values\n",
    "df.isna().sum()"
   ]
  },
  {
   "cell_type": "markdown",
   "id": "f5c06ca7",
   "metadata": {},
   "source": [
    "After understanding a bit about the data, some cleaning is needed."
   ]
  },
  {
   "cell_type": "code",
   "execution_count": 6,
   "id": "e116a714",
   "metadata": {},
   "outputs": [],
   "source": [
    "# Drop unneeded columns\n",
    "column_to_drop = ['Point']\n",
    "df = df.drop(columns = df[column_to_drop])"
   ]
  },
  {
   "cell_type": "code",
   "execution_count": 7,
   "id": "71117846",
   "metadata": {},
   "outputs": [
    {
     "data": {
      "text/html": [
       "<div>\n",
       "<style scoped>\n",
       "    .dataframe tbody tr th:only-of-type {\n",
       "        vertical-align: middle;\n",
       "    }\n",
       "\n",
       "    .dataframe tbody tr th {\n",
       "        vertical-align: top;\n",
       "    }\n",
       "\n",
       "    .dataframe thead th {\n",
       "        text-align: right;\n",
       "    }\n",
       "</style>\n",
       "<table border=\"1\" class=\"dataframe\">\n",
       "  <thead>\n",
       "    <tr style=\"text-align: right;\">\n",
       "      <th></th>\n",
       "      <th>Port Name</th>\n",
       "      <th>State</th>\n",
       "      <th>Port Code</th>\n",
       "      <th>Border</th>\n",
       "      <th>Date</th>\n",
       "      <th>Measure</th>\n",
       "      <th>Value</th>\n",
       "      <th>Latitude</th>\n",
       "      <th>Longitude</th>\n",
       "    </tr>\n",
       "  </thead>\n",
       "  <tbody>\n",
       "    <tr>\n",
       "      <th>0</th>\n",
       "      <td>International Falls</td>\n",
       "      <td>Minnesota</td>\n",
       "      <td>3604</td>\n",
       "      <td>US-Canada Border</td>\n",
       "      <td>Oct 2023</td>\n",
       "      <td>Trucks</td>\n",
       "      <td>1372</td>\n",
       "      <td>48.608</td>\n",
       "      <td>-93.401</td>\n",
       "    </tr>\n",
       "    <tr>\n",
       "      <th>1</th>\n",
       "      <td>Sumas</td>\n",
       "      <td>Washington</td>\n",
       "      <td>3009</td>\n",
       "      <td>US-Canada Border</td>\n",
       "      <td>Oct 2023</td>\n",
       "      <td>Train Passengers</td>\n",
       "      <td>57</td>\n",
       "      <td>49.002</td>\n",
       "      <td>-122.265</td>\n",
       "    </tr>\n",
       "    <tr>\n",
       "      <th>2</th>\n",
       "      <td>Naco</td>\n",
       "      <td>Arizona</td>\n",
       "      <td>2603</td>\n",
       "      <td>US-Mexico Border</td>\n",
       "      <td>Sep 2023</td>\n",
       "      <td>Trucks</td>\n",
       "      <td>270</td>\n",
       "      <td>31.334</td>\n",
       "      <td>-109.948</td>\n",
       "    </tr>\n",
       "    <tr>\n",
       "      <th>3</th>\n",
       "      <td>Wildhorse</td>\n",
       "      <td>Montana</td>\n",
       "      <td>3323</td>\n",
       "      <td>US-Canada Border</td>\n",
       "      <td>Sep 2023</td>\n",
       "      <td>Trucks</td>\n",
       "      <td>42</td>\n",
       "      <td>48.999</td>\n",
       "      <td>-110.215</td>\n",
       "    </tr>\n",
       "    <tr>\n",
       "      <th>4</th>\n",
       "      <td>Calais</td>\n",
       "      <td>Maine</td>\n",
       "      <td>115</td>\n",
       "      <td>US-Canada Border</td>\n",
       "      <td>Sep 2023</td>\n",
       "      <td>Trains</td>\n",
       "      <td>15</td>\n",
       "      <td>45.189</td>\n",
       "      <td>-67.275</td>\n",
       "    </tr>\n",
       "  </tbody>\n",
       "</table>\n",
       "</div>"
      ],
      "text/plain": [
       "             Port Name       State  Port Code            Border      Date  \\\n",
       "0  International Falls   Minnesota       3604  US-Canada Border  Oct 2023   \n",
       "1                Sumas  Washington       3009  US-Canada Border  Oct 2023   \n",
       "2                 Naco     Arizona       2603  US-Mexico Border  Sep 2023   \n",
       "3            Wildhorse     Montana       3323  US-Canada Border  Sep 2023   \n",
       "4               Calais       Maine        115  US-Canada Border  Sep 2023   \n",
       "\n",
       "            Measure  Value  Latitude  Longitude  \n",
       "0            Trucks   1372    48.608    -93.401  \n",
       "1  Train Passengers     57    49.002   -122.265  \n",
       "2            Trucks    270    31.334   -109.948  \n",
       "3            Trucks     42    48.999   -110.215  \n",
       "4            Trains     15    45.189    -67.275  "
      ]
     },
     "execution_count": 7,
     "metadata": {},
     "output_type": "execute_result"
    }
   ],
   "source": [
    "df.head()"
   ]
  },
  {
   "cell_type": "code",
   "execution_count": 8,
   "id": "1750cffb",
   "metadata": {},
   "outputs": [],
   "source": [
    "# Drop rows where key data is missing\n",
    "df = df.dropna(subset=['Latitude', 'Longitude'])"
   ]
  },
  {
   "cell_type": "code",
   "execution_count": 9,
   "id": "0f7d8966",
   "metadata": {},
   "outputs": [
    {
     "data": {
      "text/plain": [
       "Port Name     object\n",
       "State         object\n",
       "Port Code      int64\n",
       "Border        object\n",
       "Date          object\n",
       "Measure       object\n",
       "Value          int64\n",
       "Latitude     float64\n",
       "Longitude    float64\n",
       "dtype: object"
      ]
     },
     "execution_count": 9,
     "metadata": {},
     "output_type": "execute_result"
    }
   ],
   "source": [
    "# Check datatypes\n",
    "df.dtypes"
   ]
  },
  {
   "cell_type": "code",
   "execution_count": 10,
   "id": "f1d2c650",
   "metadata": {},
   "outputs": [],
   "source": [
    "# Change date string record to date object\n",
    "df['Datetime'] = pd.to_datetime(df['Date'])"
   ]
  },
  {
   "cell_type": "code",
   "execution_count": 11,
   "id": "47ab8b8e",
   "metadata": {},
   "outputs": [],
   "source": [
    "# Need to remove day value from Date since these are monthly measures\n",
    "df['Datetime'] = df['Datetime'].dt.to_period('M')"
   ]
  },
  {
   "cell_type": "code",
   "execution_count": 12,
   "id": "2425f28b",
   "metadata": {},
   "outputs": [
    {
     "data": {
      "text/html": [
       "<div>\n",
       "<style scoped>\n",
       "    .dataframe tbody tr th:only-of-type {\n",
       "        vertical-align: middle;\n",
       "    }\n",
       "\n",
       "    .dataframe tbody tr th {\n",
       "        vertical-align: top;\n",
       "    }\n",
       "\n",
       "    .dataframe thead th {\n",
       "        text-align: right;\n",
       "    }\n",
       "</style>\n",
       "<table border=\"1\" class=\"dataframe\">\n",
       "  <thead>\n",
       "    <tr style=\"text-align: right;\">\n",
       "      <th></th>\n",
       "      <th>Port Name</th>\n",
       "      <th>State</th>\n",
       "      <th>Port Code</th>\n",
       "      <th>Border</th>\n",
       "      <th>Date</th>\n",
       "      <th>Measure</th>\n",
       "      <th>Value</th>\n",
       "      <th>Latitude</th>\n",
       "      <th>Longitude</th>\n",
       "      <th>Datetime</th>\n",
       "    </tr>\n",
       "  </thead>\n",
       "  <tbody>\n",
       "    <tr>\n",
       "      <th>0</th>\n",
       "      <td>International Falls</td>\n",
       "      <td>Minnesota</td>\n",
       "      <td>3604</td>\n",
       "      <td>US-Canada Border</td>\n",
       "      <td>Oct 2023</td>\n",
       "      <td>Trucks</td>\n",
       "      <td>1372</td>\n",
       "      <td>48.608</td>\n",
       "      <td>-93.401</td>\n",
       "      <td>2023-10</td>\n",
       "    </tr>\n",
       "    <tr>\n",
       "      <th>1</th>\n",
       "      <td>Sumas</td>\n",
       "      <td>Washington</td>\n",
       "      <td>3009</td>\n",
       "      <td>US-Canada Border</td>\n",
       "      <td>Oct 2023</td>\n",
       "      <td>Train Passengers</td>\n",
       "      <td>57</td>\n",
       "      <td>49.002</td>\n",
       "      <td>-122.265</td>\n",
       "      <td>2023-10</td>\n",
       "    </tr>\n",
       "    <tr>\n",
       "      <th>2</th>\n",
       "      <td>Naco</td>\n",
       "      <td>Arizona</td>\n",
       "      <td>2603</td>\n",
       "      <td>US-Mexico Border</td>\n",
       "      <td>Sep 2023</td>\n",
       "      <td>Trucks</td>\n",
       "      <td>270</td>\n",
       "      <td>31.334</td>\n",
       "      <td>-109.948</td>\n",
       "      <td>2023-09</td>\n",
       "    </tr>\n",
       "    <tr>\n",
       "      <th>3</th>\n",
       "      <td>Wildhorse</td>\n",
       "      <td>Montana</td>\n",
       "      <td>3323</td>\n",
       "      <td>US-Canada Border</td>\n",
       "      <td>Sep 2023</td>\n",
       "      <td>Trucks</td>\n",
       "      <td>42</td>\n",
       "      <td>48.999</td>\n",
       "      <td>-110.215</td>\n",
       "      <td>2023-09</td>\n",
       "    </tr>\n",
       "    <tr>\n",
       "      <th>4</th>\n",
       "      <td>Calais</td>\n",
       "      <td>Maine</td>\n",
       "      <td>115</td>\n",
       "      <td>US-Canada Border</td>\n",
       "      <td>Sep 2023</td>\n",
       "      <td>Trains</td>\n",
       "      <td>15</td>\n",
       "      <td>45.189</td>\n",
       "      <td>-67.275</td>\n",
       "      <td>2023-09</td>\n",
       "    </tr>\n",
       "  </tbody>\n",
       "</table>\n",
       "</div>"
      ],
      "text/plain": [
       "             Port Name       State  Port Code            Border      Date  \\\n",
       "0  International Falls   Minnesota       3604  US-Canada Border  Oct 2023   \n",
       "1                Sumas  Washington       3009  US-Canada Border  Oct 2023   \n",
       "2                 Naco     Arizona       2603  US-Mexico Border  Sep 2023   \n",
       "3            Wildhorse     Montana       3323  US-Canada Border  Sep 2023   \n",
       "4               Calais       Maine        115  US-Canada Border  Sep 2023   \n",
       "\n",
       "            Measure  Value  Latitude  Longitude Datetime  \n",
       "0            Trucks   1372    48.608    -93.401  2023-10  \n",
       "1  Train Passengers     57    49.002   -122.265  2023-10  \n",
       "2            Trucks    270    31.334   -109.948  2023-09  \n",
       "3            Trucks     42    48.999   -110.215  2023-09  \n",
       "4            Trains     15    45.189    -67.275  2023-09  "
      ]
     },
     "execution_count": 12,
     "metadata": {},
     "output_type": "execute_result"
    }
   ],
   "source": [
    "df.head()"
   ]
  },
  {
   "cell_type": "markdown",
   "id": "201c18c5",
   "metadata": {},
   "source": [
    "Now that the dataframe is cleaned, it is ready to be saved and used for Exploratory Data Analysis. "
   ]
  },
  {
   "cell_type": "code",
   "execution_count": 13,
   "id": "54545de3",
   "metadata": {},
   "outputs": [],
   "source": [
    "# Save cleaned DataFrame as CSV file\n",
    "df.to_csv('cleaned_border_data.csv', index=False)"
   ]
  },
  {
   "cell_type": "code",
   "execution_count": null,
   "id": "f6edcc1d",
   "metadata": {},
   "outputs": [],
   "source": []
  }
 ],
 "metadata": {
  "kernelspec": {
   "display_name": "Python 3 (ipykernel)",
   "language": "python",
   "name": "python3"
  },
  "language_info": {
   "codemirror_mode": {
    "name": "ipython",
    "version": 3
   },
   "file_extension": ".py",
   "mimetype": "text/x-python",
   "name": "python",
   "nbconvert_exporter": "python",
   "pygments_lexer": "ipython3",
   "version": "3.10.9"
  }
 },
 "nbformat": 4,
 "nbformat_minor": 5
}
